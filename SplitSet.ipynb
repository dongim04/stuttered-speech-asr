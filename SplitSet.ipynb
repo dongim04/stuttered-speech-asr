{
 "cells": [
  {
   "cell_type": "code",
   "execution_count": 1,
   "metadata": {},
   "outputs": [
    {
     "name": "stdout",
     "output_type": "stream",
     "text": [
      "c:\\Users\\xnishikawa\\OneDrive - Olin College of Engineering\\Documents\\GitHub\\stuttered-speech-asr\n",
      "True\n",
      "True\n"
     ]
    }
   ],
   "source": [
    "import os\n",
    "\n",
    "print(os.getcwd()) \n",
    "gt_stutter = 'libristutter_result\\gt_libristutter.csv'\n",
    "stutter_transcription = 'libristutter_result\\wav2vec_libristutter.csv'\n",
    "\n",
    "print(os.path.exists(gt_stutter))  # This will print True if folder1 exists, otherwise False\n",
    "print(os.path.exists(stutter_transcription))  # This will print True if folder2 exists, otherwise False"
   ]
  },
  {
   "cell_type": "code",
   "execution_count": 2,
   "metadata": {},
   "outputs": [
    {
     "name": "stdout",
     "output_type": "stream",
     "text": [
      "(5601, 4)\n",
      "(5590, 3)\n"
     ]
    }
   ],
   "source": [
    "import pandas as pd\n",
    "\n",
    "df_gt_stutter = pd.read_csv(gt_stutter)\n",
    "df_stutter_transcription = pd.read_csv(stutter_transcription)\n",
    "\n",
    "print(df_gt_stutter.shape)\n",
    "print(df_stutter_transcription.shape)"
   ]
  },
  {
   "cell_type": "code",
   "execution_count": 3,
   "metadata": {},
   "outputs": [
    {
     "data": {
      "text/plain": [
       "<bound method NDFrame.head of              file_name                                  gt_transcriptions\n",
       "0     2893-139322-0043  stutter a swarthy hunchback ridiculously gay a...\n",
       "1     2893-139322-0027  buy a stutter of coughing men each guiding a l...\n",
       "2     2893-139322-0038  but for the most part stutter this remnant tha...\n",
       "3     2893-139322-0011  stutter latter day labor male as well as femal...\n",
       "4     2893-139322-0001  on their way the platform cross the thames stu...\n",
       "...                ...                                                ...\n",
       "5596   6000-55211-0028  then that it will bring in money and we need m...\n",
       "5597   6000-55211-0005  that she was one day stutter to be mistress of...\n",
       "5598   6000-55211-0022  nearest set a tree like plate of the same we'r...\n",
       "5599   6000-55211-0034  brought of course if it's worth that stutter t...\n",
       "5600   6000-55211-0031  or against uncle william for wanting the teapo...\n",
       "\n",
       "[5601 rows x 2 columns]>"
      ]
     },
     "execution_count": 3,
     "metadata": {},
     "output_type": "execute_result"
    }
   ],
   "source": [
    "# Remove the first column (index 0)\n",
    "df_gt_stutter_clean = df_gt_stutter.drop(df_gt_stutter.columns[0], axis=1)\n",
    "\n",
    "# Reset the index if needed\n",
    "df_gt_stutter_clean = df_gt_stutter_clean.reset_index(drop=True)\n",
    "df_gt_stutter_clean = df_gt_stutter_clean.drop('total_stutter', axis=1)\n",
    "df_gt_stutter_clean['file_name'] = df_gt_stutter_clean['file_name'].str.replace('.csv', '', regex=False)\n",
    "\n",
    "df_gt_stutter_clean.head"
   ]
  },
  {
   "cell_type": "code",
   "execution_count": 4,
   "metadata": {},
   "outputs": [
    {
     "data": {
      "text/plain": [
       "<bound method NDFrame.head of             file_name                                         prediction\n",
       "0     6925-80680-0006  the king made king made king made no remark bu...\n",
       "1     6925-80680-0072  amer ali bowed low and answered that he had un...\n",
       "2     6925-80680-0040  and as the storm had by this time passed over ...\n",
       "3     6925-80680-0036  ameer ali thought that her voice sounded rathe...\n",
       "4     6925-80680-0070  then the princess sent for her father and told...\n",
       "...               ...                                                ...\n",
       "5585  289-121652-0022  indeed as mister william h whitmore points out...\n",
       "5586  289-121652-0007  are doubtless offshoots from ancient folklor s...\n",
       "5587  289-121652-0004  are evidently drawn from a variety of sources ...\n",
       "5588  289-121652-0011  although perreut's tals differ materially uly ...\n",
       "5589  289-121652-0023  boston children at that date says mister whitm...\n",
       "\n",
       "[5590 rows x 2 columns]>"
      ]
     },
     "execution_count": 4,
     "metadata": {},
     "output_type": "execute_result"
    }
   ],
   "source": [
    "# Remove the first column (index 0)\n",
    "df_stutter_transcription_clean = df_stutter_transcription.drop(df_stutter_transcription.columns[0], axis=1)\n",
    "\n",
    "# Reset the index if needed\n",
    "df_stutter_transcription_clean['file_name'] = df_stutter_transcription_clean['file_name'].str.replace('.flac', '', regex=False)\n",
    "\n",
    "df_stutter_transcription_clean.head"
   ]
  },
  {
   "cell_type": "code",
   "execution_count": 5,
   "metadata": {},
   "outputs": [
    {
     "name": "stdout",
     "output_type": "stream",
     "text": [
      "<bound method NDFrame.head of              file_name                                  gt_transcriptions  \\\n",
      "0     2893-139322-0043  stutter a swarthy hunchback ridiculously gay a...   \n",
      "1     2893-139322-0027  buy a stutter of coughing men each guiding a l...   \n",
      "2     2893-139322-0038  but for the most part stutter this remnant tha...   \n",
      "3     2893-139322-0011  stutter latter day labor male as well as femal...   \n",
      "4     2893-139322-0001  on their way the platform cross the thames stu...   \n",
      "...                ...                                                ...   \n",
      "5528   6000-55211-0028  then that it will bring in money and we need m...   \n",
      "5529   6000-55211-0005  that she was one day stutter to be mistress of...   \n",
      "5530   6000-55211-0022  nearest set a tree like plate of the same we'r...   \n",
      "5531   6000-55211-0034  brought of course if it's worth that stutter t...   \n",
      "5532   6000-55211-0031  or against uncle william for wanting the teapo...   \n",
      "\n",
      "                                             prediction  \n",
      "0     and a swarthy hunchback ridiculously gay an gr...  \n",
      "1     by a multitude of coughing men each guiding a ...  \n",
      "2     but for the most part this part this remnant t...  \n",
      "3     the latter day laborer male as well as female ...  \n",
      "4     on their way the platform crossed the thames t...  \n",
      "...                                                 ...  \n",
      "5528  and that it will bring in money and we need mo...  \n",
      "5529  that she was one day o o be mistress of the st...  \n",
      "5530  near it set a tray like plate of the same ware...  \n",
      "5531  brought of course if it's worth that to to you...  \n",
      "5532  or against uncle william for wanting the teapo...  \n",
      "\n",
      "[5533 rows x 3 columns]>\n"
     ]
    }
   ],
   "source": [
    "import pandas as pd\n",
    "\n",
    "# Merging dataframes based on the filename column\n",
    "merged_df = pd.merge(df_gt_stutter_clean[['file_name', 'gt_transcriptions']], df_stutter_transcription_clean[['file_name', 'prediction']], on='file_name')\n",
    "\n",
    "# Display the merged dataframe\n",
    "print(merged_df.head)\n"
   ]
  },
  {
   "cell_type": "code",
   "execution_count": 6,
   "metadata": {},
   "outputs": [],
   "source": [
    "from sklearn.model_selection import train_test_split\n",
    "\n",
    "# Splitting the merged dataframe into training and testing sets\n",
    "train_df, test_df = train_test_split(merged_df, test_size=0.2, random_state=42)\n",
    "\n",
    "# Exporting the training and testing sets to separate CSV files\n",
    "train_df.to_csv('train_data.csv', index=False)\n",
    "test_df.to_csv('test_data.csv', index=False)\n",
    "\n",
    "merged_df.to_csv('merged_data.csv', index=False)"
   ]
  },
  {
   "cell_type": "code",
   "execution_count": 7,
   "metadata": {},
   "outputs": [
    {
     "name": "stdout",
     "output_type": "stream",
     "text": [
      "Requirement already satisfied: jiwer in c:\\users\\xnishikawa\\github\\stuttered-speech-asr\\.conda\\lib\\site-packages (3.0.4)\n",
      "Requirement already satisfied: click<9.0.0,>=8.1.3 in c:\\users\\xnishikawa\\github\\stuttered-speech-asr\\.conda\\lib\\site-packages (from jiwer) (8.1.7)\n",
      "Requirement already satisfied: rapidfuzz<4,>=3 in c:\\users\\xnishikawa\\github\\stuttered-speech-asr\\.conda\\lib\\site-packages (from jiwer) (3.10.0)\n",
      "Requirement already satisfied: colorama in c:\\users\\xnishikawa\\github\\stuttered-speech-asr\\.conda\\lib\\site-packages (from click<9.0.0,>=8.1.3->jiwer) (0.4.6)\n",
      "Note: you may need to restart the kernel to use updated packages.\n"
     ]
    }
   ],
   "source": [
    "# Validation that the data was correct\n",
    "%pip install jiwer\n",
    "\n",
    "\n"
   ]
  },
  {
   "cell_type": "code",
   "execution_count": 10,
   "metadata": {},
   "outputs": [
    {
     "name": "stdout",
     "output_type": "stream",
     "text": [
      "The mean Word Error Rate is: 0.4254\n"
     ]
    }
   ],
   "source": [
    "import jiwer\n",
    "\n",
    "# Calculate WER for each pair of ground truth and prediction\n",
    "ground_truth_list = merged_df['gt_transcriptions'].tolist()\n",
    "prediction_list = merged_df['prediction'].tolist()\n",
    "\n",
    "# Calculate WER for each row\n",
    "wer_results = [\n",
    "    jiwer.wer(gt, pred)\n",
    "    for gt, pred in zip(ground_truth_list, prediction_list)\n",
    "]\n",
    "\n",
    "# Add WER results to the dataframe\n",
    "merged_df['wer'] = wer_results\n",
    "\n",
    "# Calculate the mean WER\n",
    "mean_wer = merged_df['wer'].mean()\n",
    "\n",
    "print(f\"The mean Word Error Rate is: {mean_wer:.4f}\")\n"
   ]
  }
 ],
 "metadata": {
  "kernelspec": {
   "display_name": "Python 3",
   "language": "python",
   "name": "python3"
  },
  "language_info": {
   "codemirror_mode": {
    "name": "ipython",
    "version": 3
   },
   "file_extension": ".py",
   "mimetype": "text/x-python",
   "name": "python",
   "nbconvert_exporter": "python",
   "pygments_lexer": "ipython3",
   "version": "3.11.9"
  }
 },
 "nbformat": 4,
 "nbformat_minor": 2
}
