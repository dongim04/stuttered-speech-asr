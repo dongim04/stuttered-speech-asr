{
 "cells": [
  {
   "cell_type": "code",
   "execution_count": 11,
   "metadata": {},
   "outputs": [
    {
     "name": "stdout",
     "output_type": "stream",
     "text": [
      "c:\\Users\\xnishikawa\\OneDrive - Olin College of Engineering\\Documents\\GitHub\\stuttered-speech-asr\n",
      "True\n",
      "True\n"
     ]
    }
   ],
   "source": [
    "import os\n",
    "\n",
    "print(os.getcwd()) \n",
    "#gt_stutter = 'libristutter_result\\gt_libristutter.csv'\n",
    "stutter_transcription = 'libristutter_result\\wav2vec_libristutter.csv'\n",
    "gt_stutter = 'librispeech_result\\gt_librispeech.csv'\n",
    "\n",
    "print(os.path.exists(gt_stutter))  # This will print True if folder1 exists, otherwise False\n",
    "print(os.path.exists(stutter_transcription))  # This will print True if folder2 exists, otherwise False"
   ]
  },
  {
   "cell_type": "code",
   "execution_count": 12,
   "metadata": {},
   "outputs": [
    {
     "name": "stdout",
     "output_type": "stream",
     "text": [
      "(15237, 3)\n",
      "(5590, 3)\n"
     ]
    }
   ],
   "source": [
    "import pandas as pd\n",
    "\n",
    "df_gt_stutter = pd.read_csv(gt_stutter)\n",
    "df_stutter_transcription = pd.read_csv(stutter_transcription)\n",
    "\n",
    "print(df_gt_stutter.shape)\n",
    "print(df_stutter_transcription.shape)"
   ]
  },
  {
   "cell_type": "code",
   "execution_count": 14,
   "metadata": {},
   "outputs": [
    {
     "data": {
      "text/plain": [
       "<bound method NDFrame.head of               file_name                                       ground_truth\n",
       "0       441-128982-0000  when the little fleet of spanish vessels inclu...\n",
       "1       441-128982-0001  the captain who had bartholemy and the others ...\n",
       "2       441-128982-0002  for as they were all very able bodied men they...\n",
       "3       441-128982-0003  and who had heard of his various exploits he t...\n",
       "4       441-128982-0004  and who ought immediately to be delivered up t...\n",
       "...                 ...                                                ...\n",
       "15232  8098-275181-0029  his left hand was bitten through the palm and ...\n",
       "15233  8098-275181-0030  these numerous bites however were followed by ...\n",
       "15234  8098-275181-0031  i just determined to have it out with him cons...\n",
       "15235  8098-275181-0032  i do not think that he ever cared to make a fo...\n",
       "15236  8098-275181-0033  how or by what wiles that fox got the turkeys ...\n",
       "\n",
       "[15237 rows x 2 columns]>"
      ]
     },
     "execution_count": 14,
     "metadata": {},
     "output_type": "execute_result"
    }
   ],
   "source": [
    "# Remove the first column (index 0)\n",
    "df_gt_stutter_clean = df_gt_stutter.drop(df_gt_stutter.columns[0], axis=1)\n",
    "\n",
    "# Reset the index if needed\n",
    "df_gt_stutter_clean = df_gt_stutter_clean.reset_index(drop=True)\n",
    "#df_gt_stutter_clean = df_gt_stutter_clean.drop('total_stutter', axis=1)\n",
    "df_gt_stutter_clean['file_name'] = df_gt_stutter_clean['file_name'].str.replace('.csv', '', regex=False)\n",
    "\n",
    "df_gt_stutter_clean.head"
   ]
  },
  {
   "cell_type": "code",
   "execution_count": 15,
   "metadata": {},
   "outputs": [
    {
     "data": {
      "text/plain": [
       "<bound method NDFrame.head of             file_name                                         prediction\n",
       "0     6925-80680-0006  the king made king made king made no remark bu...\n",
       "1     6925-80680-0072  amer ali bowed low and answered that he had un...\n",
       "2     6925-80680-0040  and as the storm had by this time passed over ...\n",
       "3     6925-80680-0036  ameer ali thought that her voice sounded rathe...\n",
       "4     6925-80680-0070  then the princess sent for her father and told...\n",
       "...               ...                                                ...\n",
       "5585  289-121652-0022  indeed as mister william h whitmore points out...\n",
       "5586  289-121652-0007  are doubtless offshoots from ancient folklor s...\n",
       "5587  289-121652-0004  are evidently drawn from a variety of sources ...\n",
       "5588  289-121652-0011  although perreut's tals differ materially uly ...\n",
       "5589  289-121652-0023  boston children at that date says mister whitm...\n",
       "\n",
       "[5590 rows x 2 columns]>"
      ]
     },
     "execution_count": 15,
     "metadata": {},
     "output_type": "execute_result"
    }
   ],
   "source": [
    "# Remove the first column (index 0)\n",
    "df_stutter_transcription_clean = df_stutter_transcription.drop(df_stutter_transcription.columns[0], axis=1)\n",
    "\n",
    "# Reset the index if needed\n",
    "df_stutter_transcription_clean['file_name'] = df_stutter_transcription_clean['file_name'].str.replace('.flac', '', regex=False)\n",
    "\n",
    "df_stutter_transcription_clean.head"
   ]
  },
  {
   "cell_type": "code",
   "execution_count": 17,
   "metadata": {},
   "outputs": [
    {
     "name": "stdout",
     "output_type": "stream",
     "text": [
      "<bound method NDFrame.head of              file_name                                       ground_truth  \\\n",
      "0      5561-41615-0000                    chapter fifteen a would be lark   \n",
      "1      5561-41615-0001  the majority however appeared to be highly del...   \n",
      "2      5561-41615-0002  and as the morning advanced they became fully ...   \n",
      "3      5561-41615-0003  at recess there was more grouping and whisperi...   \n",
      "4      5561-41615-0004  eleanor started that paper whatever it is said...   \n",
      "...                ...                                                ...   \n",
      "5585  8098-275181-0029  his left hand was bitten through the palm and ...   \n",
      "5586  8098-275181-0030  these numerous bites however were followed by ...   \n",
      "5587  8098-275181-0031  i just determined to have it out with him cons...   \n",
      "5588  8098-275181-0032  i do not think that he ever cared to make a fo...   \n",
      "5589  8098-275181-0033  how or by what wiles that fox got the turkeys ...   \n",
      "\n",
      "                                             prediction  \n",
      "0                       chapter fifteen a would be lark  \n",
      "1     the majority however appeared to be highly del...  \n",
      "2     and as the morning advanced they became fully ...  \n",
      "3     at recess there was more more more more groupi...  \n",
      "4     eleanor started that paper started that paper ...  \n",
      "...                                                 ...  \n",
      "5585  his left hand was bitten  through the palm and...  \n",
      "5586  these numerous bites however were followed by ...  \n",
      "5587  i just determined to have it out with him cons...  \n",
      "5588  i do not think that he think that he ever care...  \n",
      "5589  how or by what wiles that fox got the turkeys ...  \n",
      "\n",
      "[5590 rows x 3 columns]>\n"
     ]
    }
   ],
   "source": [
    "import pandas as pd\n",
    "\n",
    "# Merging dataframes based on the filename column\n",
    "merged_df = pd.merge(df_gt_stutter_clean[['file_name', 'ground_truth']], df_stutter_transcription_clean[['file_name', 'prediction']], on='file_name')\n",
    "\n",
    "# Display the merged dataframe\n",
    "print(merged_df.head)\n"
   ]
  },
  {
   "cell_type": "code",
   "execution_count": 18,
   "metadata": {},
   "outputs": [],
   "source": [
    "from sklearn.model_selection import train_test_split\n",
    "\n",
    "# Splitting the merged dataframe into training and testing sets\n",
    "train_df, test_df = train_test_split(merged_df, test_size=0.2, random_state=42)\n",
    "\n",
    "# Exporting the training and testing sets to separate CSV files\n",
    "train_df.to_csv('train_data.csv', index=False)\n",
    "test_df.to_csv('test_data.csv', index=False)\n",
    "\n",
    "merged_df.to_csv('merged_data.csv', index=False)"
   ]
  },
  {
   "cell_type": "code",
   "execution_count": 19,
   "metadata": {},
   "outputs": [
    {
     "name": "stdout",
     "output_type": "stream",
     "text": [
      "Requirement already satisfied: jiwer in c:\\users\\xnishikawa\\github\\stuttered-speech-asr\\.conda\\lib\\site-packages (3.0.4)\n",
      "Requirement already satisfied: click<9.0.0,>=8.1.3 in c:\\users\\xnishikawa\\github\\stuttered-speech-asr\\.conda\\lib\\site-packages (from jiwer) (8.1.7)\n",
      "Requirement already satisfied: rapidfuzz<4,>=3 in c:\\users\\xnishikawa\\github\\stuttered-speech-asr\\.conda\\lib\\site-packages (from jiwer) (3.10.0)\n",
      "Requirement already satisfied: colorama in c:\\users\\xnishikawa\\github\\stuttered-speech-asr\\.conda\\lib\\site-packages (from click<9.0.0,>=8.1.3->jiwer) (0.4.6)\n",
      "Note: you may need to restart the kernel to use updated packages.\n"
     ]
    }
   ],
   "source": [
    "# Validation that the data was correct\n",
    "%pip install jiwer\n",
    "\n",
    "\n"
   ]
  },
  {
   "cell_type": "code",
   "execution_count": 21,
   "metadata": {},
   "outputs": [
    {
     "name": "stdout",
     "output_type": "stream",
     "text": [
      "The mean Word Error Rate is: 0.1133\n"
     ]
    }
   ],
   "source": [
    "import jiwer\n",
    "\n",
    "# Calculate WER for each pair of ground truth and prediction\n",
    "ground_truth_list = merged_df['ground_truth'].tolist()\n",
    "prediction_list = merged_df['prediction'].tolist()\n",
    "\n",
    "# Calculate WER for each row\n",
    "wer_results = [\n",
    "    jiwer.wer(gt, pred)\n",
    "    for gt, pred in zip(ground_truth_list, prediction_list)\n",
    "]\n",
    "\n",
    "# Add WER results to the dataframe\n",
    "merged_df['wer'] = wer_results\n",
    "\n",
    "# Calculate the mean WER\n",
    "mean_wer = merged_df['wer'].mean()\n",
    "\n",
    "print(f\"The mean Word Error Rate is: {mean_wer:.4f}\")\n"
   ]
  }
 ],
 "metadata": {
  "kernelspec": {
   "display_name": "Python 3",
   "language": "python",
   "name": "python3"
  },
  "language_info": {
   "codemirror_mode": {
    "name": "ipython",
    "version": 3
   },
   "file_extension": ".py",
   "mimetype": "text/x-python",
   "name": "python",
   "nbconvert_exporter": "python",
   "pygments_lexer": "ipython3",
   "version": "3.11.9"
  }
 },
 "nbformat": 4,
 "nbformat_minor": 2
}
