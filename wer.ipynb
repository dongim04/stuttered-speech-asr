{
 "cells": [
  {
   "cell_type": "code",
   "execution_count": 114,
   "metadata": {},
   "outputs": [],
   "source": [
    "import pandas as pd\n",
    "from jiwer import wer\n",
    "import string"
   ]
  },
  {
   "cell_type": "markdown",
   "metadata": {},
   "source": [
    "# Prepocessing"
   ]
  },
  {
   "cell_type": "code",
   "execution_count": 115,
   "metadata": {},
   "outputs": [],
   "source": [
    "def sort_by_file_name(df):\n",
    "    df[['part1', 'part2', 'part3']] = df['file_name'].str.split('-', expand=True)\n",
    "    df['part1'] = df['part1'].astype(int)\n",
    "    df['part2'] = df['part2'].astype(int)\n",
    "    df['part3'] = df['part3'].astype(int)\n",
    "    df = df.sort_values(by=['part1', 'part2', 'part3'])\n",
    "    df = df.drop(columns=['part1', 'part2', 'part3'])\n",
    "    df = df.reset_index(drop=True)\n",
    "    return df\n",
    "\n",
    "def preprocess_csv(csv_path, rm_stutter=False):\n",
    "    df = pd.read_csv(csv_path, index_col=0)\n",
    "    df['file_name'] = df['file_name'].str.replace('.flac', '', regex=False)\n",
    "    df['file_name'] = df['file_name'].str.replace('.csv', '', regex=False)\n",
    "    df.iloc[:, 1] = df.iloc[:, 1].apply(lambda x: x.translate(str.maketrans('', '', string.punctuation)).lstrip())\n",
    "    if rm_stutter==True:\n",
    "        df.iloc[:, 1] = df.iloc[:, 1].str.replace('stutter', '', case=False)\n",
    "    df = sort_by_file_name(df)\n",
    "    return df"
   ]
  },
  {
   "cell_type": "code",
   "execution_count": 116,
   "metadata": {},
   "outputs": [
    {
     "data": {
      "text/html": [
       "<div>\n",
       "<style scoped>\n",
       "    .dataframe tbody tr th:only-of-type {\n",
       "        vertical-align: middle;\n",
       "    }\n",
       "\n",
       "    .dataframe tbody tr th {\n",
       "        vertical-align: top;\n",
       "    }\n",
       "\n",
       "    .dataframe thead th {\n",
       "        text-align: right;\n",
       "    }\n",
       "</style>\n",
       "<table border=\"1\" class=\"dataframe\">\n",
       "  <thead>\n",
       "    <tr style=\"text-align: right;\">\n",
       "      <th></th>\n",
       "      <th>file_name</th>\n",
       "      <th>libristutter_gt</th>\n",
       "      <th>total_stutter</th>\n",
       "    </tr>\n",
       "  </thead>\n",
       "  <tbody>\n",
       "    <tr>\n",
       "      <th>0</th>\n",
       "      <td>78-368-0000</td>\n",
       "      <td>chapter 1 mrs  rachel lynde is surprised mrs  ...</td>\n",
       "      <td>11</td>\n",
       "    </tr>\n",
       "    <tr>\n",
       "      <th>1</th>\n",
       "      <td>78-368-0001</td>\n",
       "      <td>it had its source away back in the woods at th...</td>\n",
       "      <td>8</td>\n",
       "    </tr>\n",
       "    <tr>\n",
       "      <th>2</th>\n",
       "      <td>78-368-0002</td>\n",
       "      <td>for not even if brooke could run past mrs rach...</td>\n",
       "      <td>0</td>\n",
       "    </tr>\n",
       "    <tr>\n",
       "      <th>3</th>\n",
       "      <td>78-368-0003</td>\n",
       "      <td>and that if she noticed anything odd or out of...</td>\n",
       "      <td>6</td>\n",
       "    </tr>\n",
       "    <tr>\n",
       "      <th>4</th>\n",
       "      <td>78-368-0004</td>\n",
       "      <td>but mrs  rachel lynde was one of those capable...</td>\n",
       "      <td>7</td>\n",
       "    </tr>\n",
       "  </tbody>\n",
       "</table>\n",
       "</div>"
      ],
      "text/plain": [
       "     file_name                                    libristutter_gt  \\\n",
       "0  78-368-0000  chapter 1 mrs  rachel lynde is surprised mrs  ...   \n",
       "1  78-368-0001  it had its source away back in the woods at th...   \n",
       "2  78-368-0002  for not even if brooke could run past mrs rach...   \n",
       "3  78-368-0003  and that if she noticed anything odd or out of...   \n",
       "4  78-368-0004  but mrs  rachel lynde was one of those capable...   \n",
       "\n",
       "   total_stutter  \n",
       "0             11  \n",
       "1              8  \n",
       "2              0  \n",
       "3              6  \n",
       "4              7  "
      ]
     },
     "metadata": {},
     "output_type": "display_data"
    },
    {
     "data": {
      "text/html": [
       "<div>\n",
       "<style scoped>\n",
       "    .dataframe tbody tr th:only-of-type {\n",
       "        vertical-align: middle;\n",
       "    }\n",
       "\n",
       "    .dataframe tbody tr th {\n",
       "        vertical-align: top;\n",
       "    }\n",
       "\n",
       "    .dataframe thead th {\n",
       "        text-align: right;\n",
       "    }\n",
       "</style>\n",
       "<table border=\"1\" class=\"dataframe\">\n",
       "  <thead>\n",
       "    <tr style=\"text-align: right;\">\n",
       "      <th></th>\n",
       "      <th>file_name</th>\n",
       "      <th>libristutter_whisper</th>\n",
       "    </tr>\n",
       "  </thead>\n",
       "  <tbody>\n",
       "    <tr>\n",
       "      <th>0</th>\n",
       "      <td>78-368-0000</td>\n",
       "      <td>chapter 23 it was eight oclock when we landed ...</td>\n",
       "    </tr>\n",
       "    <tr>\n",
       "      <th>1</th>\n",
       "      <td>78-368-0001</td>\n",
       "      <td>the wind which had fallen in the south now ros...</td>\n",
       "    </tr>\n",
       "    <tr>\n",
       "      <th>2</th>\n",
       "      <td>78-368-0002</td>\n",
       "      <td>the clouds swept across its swifter than the f...</td>\n",
       "    </tr>\n",
       "    <tr>\n",
       "      <th>3</th>\n",
       "      <td>78-368-0003</td>\n",
       "      <td>that were beginning to rise suddenly a heavy s...</td>\n",
       "    </tr>\n",
       "    <tr>\n",
       "      <th>4</th>\n",
       "      <td>78-368-0004</td>\n",
       "      <td>and not shrink from the conflict until my own ...</td>\n",
       "    </tr>\n",
       "  </tbody>\n",
       "</table>\n",
       "</div>"
      ],
      "text/plain": [
       "     file_name                               libristutter_whisper\n",
       "0  78-368-0000  chapter 23 it was eight oclock when we landed ...\n",
       "1  78-368-0001  the wind which had fallen in the south now ros...\n",
       "2  78-368-0002  the clouds swept across its swifter than the f...\n",
       "3  78-368-0003  that were beginning to rise suddenly a heavy s...\n",
       "4  78-368-0004  and not shrink from the conflict until my own ..."
      ]
     },
     "metadata": {},
     "output_type": "display_data"
    }
   ],
   "source": [
    "df_librispeech_gt = preprocess_csv(\"librispeech_result/gt_librispeech.csv\")\n",
    "df_librispeech_gt.rename(columns={'ground_truth': 'librispeech_gt'}, inplace=True)\n",
    "\n",
    "df_librispeech_whisper = preprocess_csv(\"librispeech_result/whisper_librispeech.csv\")\n",
    "df_librispeech_whisper.rename(columns={'prediction': 'librispeech_whisper'}, inplace=True)\n",
    "\n",
    "df_librispeech_wav2vec = preprocess_csv(\"librispeech_result/wav2vec_librispeech.csv\")\n",
    "df_librispeech_wav2vec.rename(columns={'prediction': 'librispeech_wav2vec'}, inplace=True)\n",
    "\n",
    "# df_librispeech_googlecloud = preprocess_csv(\"librispeech_result/googlecloud_librispeech.csv\")\n",
    "# df_librispeech_googlecloud.rename(columns={'prediction': 'librispeech_googlecloud'}, inplace=True)\n",
    "# display(df_librispeech_googlecloud.head(2))\n",
    "\n",
    "\n",
    "df_libristutter_gt = preprocess_csv(\"libristutter_result/gt_libristutter.csv\", rm_stutter=True)\n",
    "df_libristutter_gt.rename(columns={'gt_transcriptions': 'libristutter_gt'}, inplace=True)\n",
    "display(df_libristutter_gt.head())\n",
    "\n",
    "df_libristutter_whisper = preprocess_csv(\"libristutter_result/whisper_libristutter.csv\")\n",
    "df_libristutter_whisper.rename(columns={'prediction': 'libristutter_whisper'}, inplace=True)\n",
    "display(df_libristutter_whisper.head())\n",
    "\n",
    "\n",
    "df_libristutter_wav2vec = preprocess_csv(\"libristutter_result/wav2vec_libristutter.csv\")\n",
    "df_libristutter_wav2vec.rename(columns={'prediction': 'libristutter_wav2vec'}, inplace=True)\n",
    "\n",
    "# df_libristutter_googlecloud = preprocess_csv(\"librispeech_result/googlecloud_librispeech.csv\")\n",
    "# df_libristutter_googlecloud.rename(columns={'prediction': 'librispeech_googlecloud'}, inplace=True)\n",
    "# display(df_libristutter_googlecloud.head(2))"
   ]
  },
  {
   "cell_type": "markdown",
   "metadata": {},
   "source": [
    "# Calculate WER"
   ]
  },
  {
   "cell_type": "code",
   "execution_count": 117,
   "metadata": {},
   "outputs": [],
   "source": [
    "def calculate_wer(df_model, df_gt, output_filename):\n",
    "    df_wer = pd.merge(df_model, df_gt, on='file_name')\n",
    "    df_wer[output_filename] = df_wer.apply(lambda row: wer(row.iloc[1], row.iloc[2]), axis=1)\n",
    "    df_wer.to_csv(f'wer_scores_csv/{output_filename}.csv', index=False)\n",
    "    return df_wer"
   ]
  },
  {
   "cell_type": "code",
   "execution_count": 130,
   "metadata": {},
   "outputs": [],
   "source": [
    "df_librispeech_whisper_wer = calculate_wer(df_librispeech_whisper, df_librispeech_gt, 'wer_librispeech_whisper')\n",
    "df_librispeech_wav2vec_wer = calculate_wer(df_librispeech_wav2vec, df_librispeech_gt, 'wer_librispeech_wav2vec')\n",
    "# df_librispeech_googlecloud_wer = calculate_wer(df_librispeech_googlecloud, df_librispeech_gt, 'wer_librispeech_googlecloud')\n",
    "\n",
    "df_libristutter_whisper_wer = calculate_wer(df_libristutter_whisper, df_librispeech_gt, 'wer_libristutter_whisper')\n",
    "df_libristutter_wav2vec_wer = calculate_wer(df_libristutter_wav2vec, df_librispeech_gt, 'wer_libristutter_wav2vec')\n",
    "# df_libristutter_googlecloud_wer = calculate_wer(df_libristutter_googlecloud, df_librispeech_gt, 'wer_libristutter_googlecloud')"
   ]
  },
  {
   "cell_type": "markdown",
   "metadata": {},
   "source": [
    "# Create the final csv file ‘wer_librispeech_libristutter.csv’"
   ]
  },
  {
   "cell_type": "code",
   "execution_count": 140,
   "metadata": {},
   "outputs": [],
   "source": [
    "def merge_dfs(dfs):\n",
    "    df_list = [df[['file_name', df.columns[-1]]] for df in dfs] # Extract file_name and WER from each df\n",
    "    merged_df = df_list[0]\n",
    "    for df in df_list[1:]:\n",
    "        merged_df = merged_df.merge(df, on='file_name', how='outer')\n",
    "    return merged_df"
   ]
  },
  {
   "cell_type": "code",
   "execution_count": 149,
   "metadata": {},
   "outputs": [
    {
     "data": {
      "text/html": [
       "<div>\n",
       "<style scoped>\n",
       "    .dataframe tbody tr th:only-of-type {\n",
       "        vertical-align: middle;\n",
       "    }\n",
       "\n",
       "    .dataframe tbody tr th {\n",
       "        vertical-align: top;\n",
       "    }\n",
       "\n",
       "    .dataframe thead th {\n",
       "        text-align: right;\n",
       "    }\n",
       "</style>\n",
       "<table border=\"1\" class=\"dataframe\">\n",
       "  <thead>\n",
       "    <tr style=\"text-align: right;\">\n",
       "      <th></th>\n",
       "      <th>file_name</th>\n",
       "      <th>wer_librispeech_whisper</th>\n",
       "      <th>wer_librispeech_wav2vec</th>\n",
       "      <th>wer_libristutter_whisper</th>\n",
       "      <th>wer_libristutter_wav2vec</th>\n",
       "    </tr>\n",
       "  </thead>\n",
       "  <tbody>\n",
       "    <tr>\n",
       "      <th>1310</th>\n",
       "      <td>1867-154071-0019</td>\n",
       "      <td>0.187500</td>\n",
       "      <td>0.0625</td>\n",
       "      <td>0.277778</td>\n",
       "      <td>0.166667</td>\n",
       "    </tr>\n",
       "    <tr>\n",
       "      <th>1311</th>\n",
       "      <td>1867-154071-0020</td>\n",
       "      <td>0.055556</td>\n",
       "      <td>0.0000</td>\n",
       "      <td>0.227273</td>\n",
       "      <td>0.270833</td>\n",
       "    </tr>\n",
       "    <tr>\n",
       "      <th>1312</th>\n",
       "      <td>1867-154071-0021</td>\n",
       "      <td>0.000000</td>\n",
       "      <td>0.0000</td>\n",
       "      <td>0.000000</td>\n",
       "      <td>0.047619</td>\n",
       "    </tr>\n",
       "    <tr>\n",
       "      <th>1313</th>\n",
       "      <td>1867-154071-0022</td>\n",
       "      <td>0.000000</td>\n",
       "      <td>0.0000</td>\n",
       "      <td>0.000000</td>\n",
       "      <td>0.000000</td>\n",
       "    </tr>\n",
       "    <tr>\n",
       "      <th>1314</th>\n",
       "      <td>1867-154071-0023</td>\n",
       "      <td>0.032258</td>\n",
       "      <td>0.0000</td>\n",
       "      <td>0.142857</td>\n",
       "      <td>0.138889</td>\n",
       "    </tr>\n",
       "  </tbody>\n",
       "</table>\n",
       "</div>"
      ],
      "text/plain": [
       "             file_name  wer_librispeech_whisper  wer_librispeech_wav2vec  \\\n",
       "1310  1867-154071-0019                 0.187500                   0.0625   \n",
       "1311  1867-154071-0020                 0.055556                   0.0000   \n",
       "1312  1867-154071-0021                 0.000000                   0.0000   \n",
       "1313  1867-154071-0022                 0.000000                   0.0000   \n",
       "1314  1867-154071-0023                 0.032258                   0.0000   \n",
       "\n",
       "      wer_libristutter_whisper  wer_libristutter_wav2vec  \n",
       "1310                  0.277778                  0.166667  \n",
       "1311                  0.227273                  0.270833  \n",
       "1312                  0.000000                  0.047619  \n",
       "1313                  0.000000                  0.000000  \n",
       "1314                  0.142857                  0.138889  "
      ]
     },
     "execution_count": 149,
     "metadata": {},
     "output_type": "execute_result"
    }
   ],
   "source": [
    "dfs = [\n",
    "    df_librispeech_whisper_wer, df_librispeech_wav2vec_wer, # df_librispeech_googlecloud_wer,\n",
    "    df_libristutter_whisper_wer, df_libristutter_wav2vec_wer, # df_libristutter_googlecloud_wer\n",
    "]\n",
    "df_librispeech_libristutter = merge_dfs(dfs)\n",
    "df_librispeech_libristutter.to_csv('wer_scores_csv/wer_librispeech_libristutter.csv', index=False)\n",
    "df_librispeech_libristutter.iloc[1310:1315]"
   ]
  },
  {
   "cell_type": "markdown",
   "metadata": {},
   "source": [
    "# Result Analysis"
   ]
  },
  {
   "cell_type": "code",
   "execution_count": 142,
   "metadata": {},
   "outputs": [
    {
     "name": "stdout",
     "output_type": "stream",
     "text": [
      "Mean WER:\n",
      "LibriSpeech Whisper: 0.07270720071708915\n",
      "LibriSpeech Wav2vec: 0.014986007919929566\n",
      "LibriStutter Whisper: 0.12012099638035054\n",
      "LibriStutter Wav2vec: 0.09635759641553532\n"
     ]
    }
   ],
   "source": [
    "print('Mean WER:')\n",
    "print('LibriSpeech Whisper:', df_librispeech_libristutter['wer_librispeech_whisper'].mean())\n",
    "print('LibriSpeech Wav2vec:', df_librispeech_libristutter['wer_librispeech_wav2vec'].mean())\n",
    "# print('LibriSpeech GoogleCloud:', df_librispeech_libristutter['wer_librispeech_googlecloud'].mean())\n",
    "print('LibriStutter Whisper:', df_librispeech_libristutter['wer_libristutter_whisper'].mean())\n",
    "print('LibriStutter Wav2vec:', df_librispeech_libristutter['wer_libristutter_wav2vec'].mean())\n",
    "# print('LibriSpeech GoogleCloud:', df_librispeech_libristutter['wer_libristutter_googlecloud'].mean())"
   ]
  }
 ],
 "metadata": {
  "kernelspec": {
   "display_name": "env",
   "language": "python",
   "name": "python3"
  },
  "language_info": {
   "codemirror_mode": {
    "name": "ipython",
    "version": 3
   },
   "file_extension": ".py",
   "mimetype": "text/x-python",
   "name": "python",
   "nbconvert_exporter": "python",
   "pygments_lexer": "ipython3",
   "version": "3.9.13"
  }
 },
 "nbformat": 4,
 "nbformat_minor": 2
}
